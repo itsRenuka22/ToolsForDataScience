{
  "metadata": {
    "language_info": {
      "codemirror_mode": {
        "name": "python",
        "version": 3
      },
      "file_extension": ".py",
      "mimetype": "text/x-python",
      "name": "python",
      "nbconvert_exporter": "python",
      "pygments_lexer": "ipython3",
      "version": "3.8"
    },
    "kernelspec": {
      "name": "python",
      "display_name": "Pyolite",
      "language": "python"
    }
  },
  "nbformat_minor": 4,
  "nbformat": 4,
  "cells": [
    {
      "cell_type": "markdown",
      "source": "# My Jupyter Notebook on IBM Watson Studio",
      "metadata": {}
    },
    {
      "cell_type": "markdown",
      "source": "__Renuka Patwari__\n<br>\nI am currently a student pursuing Computer Science.",
      "metadata": {}
    },
    {
      "cell_type": "markdown",
      "source": "_I an interested in Data Science because it has tremendous opportunities for advancement in the future._",
      "metadata": {}
    },
    {
      "cell_type": "markdown",
      "source": "### The code below is supposed to multiply the two given numbers",
      "metadata": {}
    },
    {
      "cell_type": "code",
      "source": "3 * 5",
      "metadata": {
        "trusted": true
      },
      "execution_count": 1,
      "outputs": [
        {
          "execution_count": 1,
          "output_type": "execute_result",
          "data": {
            "text/plain": "15"
          },
          "metadata": {}
        }
      ]
    },
    {
      "cell_type": "markdown",
      "source": "__Advantages of Data Science (bulleted list)__\n-  Improves Business Predictions.\n-  Business Intelligence.\n-  Helps in Sales & Marketing.\n\n__Pros of Data Science (numbered list)__\n1. Data Science is Versatile\n2. Data Science Makes Data Better\n3. Data Science Makes Products Smarter\n\n***\n\n__Hyperlink__<br>\n[This is a link to the IBM Cloud Website](https://cloud.ibm.com/)\n\n__Strikethrough__<br>\n~~This is a strikethrough text~~",
      "metadata": {}
    },
    {
      "cell_type": "code",
      "source": "",
      "metadata": {},
      "execution_count": null,
      "outputs": []
    }
  ]
}